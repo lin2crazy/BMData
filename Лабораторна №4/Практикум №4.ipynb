{
 "cells": [
  {
   "cell_type": "markdown",
   "metadata": {},
   "source": [
    "Практикум №4<br>\n",
    "Дисципліна: Обробка та аналіз БМД<br>\n",
    "Студент: Збаровський Дмитро<br>\n",
    "Група: БС-81"
   ]
  },
  {
   "cell_type": "code",
   "execution_count": 241,
   "metadata": {},
   "outputs": [],
   "source": [
    "import numpy as np\n",
    "import pandas as pd\n",
    "import matplotlib.backends.backend_pdf\n",
    "import matplotlib.pyplot as plt\n",
    "%matplotlib inline"
   ]
  },
  {
   "cell_type": "markdown",
   "metadata": {},
   "source": [
    "1. Сгенеруйте набір даних, що містить не менше 6 змінних. Частину змінних згенеруйте за нормальний розподілом, частину - за будь-яким іншим розподілом. Кількість спостережень - 20."
   ]
  },
  {
   "cell_type": "code",
   "execution_count": 242,
   "metadata": {},
   "outputs": [
    {
     "name": "stdout",
     "output_type": "stream",
     "text": [
      "[-2.1089835836460877, -1.3878249348097655, -1.1370676606954264, -1.1101176199379168, -0.9980543083167416, -0.8077091304025708, -0.7450086398389397, -0.7172255385599735, -0.6479346976033096, -0.20074995879102275, 0.002376526632346697, 0.02824805817235122, 0.2821405927777499, 0.3184036698120819, 0.43283617590828394, 0.6498141438032718, 0.873266036394627, 1.034126766511813, 1.1187463044313124, 2.5142075397894073]\n",
      "\n",
      "[-2.5325037677779862, -1.323648337931646, -1.2204556278182455, -1.2040050165838965, -1.087346656684515, -0.9081086740555071, -0.7226606552712389, -0.6274235320650031, -0.6141017246417492, -0.3315475081794394, -0.3046760605713633, -0.16238039975563545, -0.06307473278892013, -0.033571709801997585, 0.1558380393126629, 0.42910137907232704, 0.4337663009207017, 0.4852246822633034, 1.2856748337625525, 1.365541717454075]\n",
      "\n",
      "[-0.8442888086338339, -0.7416129645493906, -0.6647408913284018, -0.6535100150538721, -0.49551504490504783, -0.4251393271835432, -0.3431587509381605, -0.14965366449701234, -0.07272992983465455, 0.007147124315320061, 0.059138965463782237, 0.08037168849332287, 0.6183570835263611, 0.8710774328203803, 0.8945489888498841, 1.0135825647196497, 1.24155741017854, 1.3249038937824509, 1.5703386868157552, 2.0654417094914845]\n",
      "\n",
      "[-5.1774853177042335, -5.156157146310823, -4.440270860308725, -3.3330928929466315, -3.169645307736043, -3.001529890721725, -2.644641111435334, -2.6299250132587964, -2.275943674707747, -2.1995647260510784, -1.859894292461087, -1.425853998242455, 0.9036076505744788, 2.0393848523323275, 3.663743688937327, 5.000532049810268, 5.092923617874067, 5.16526425318982, 5.342909525600678, 5.352930958277115]\n",
      "\n",
      "[-5.963648221892622, -5.357723657820863, -5.050047830797755, -4.769566972332774, -4.129700856853196, -3.4672583052941226, -2.490553513790809, -1.9500127972277346, -1.8028423474908726, -1.511520774686371, -1.1768816829381148, -0.18211842922841726, 1.5106110364030583, 2.685144216516173, 2.832787504644301, 2.9350532238809546, 3.053131012190118, 3.3528383103770647, 3.626739239579379, 4.133894585453493]\n",
      "\n",
      "[-5.5340868167301975, -5.311167126077076, -4.949143456475081, -4.688332270093746, -4.278516263895098, -3.863140864763565, -1.793196985871365, -0.896364025832904, -0.5358505126063466, -0.2869728031521088, 0.1565105535660969, 0.20029354180847303, 0.23546983068220761, 0.34432675346330477, 0.6887463392569657, 1.2250397211390638, 1.9242416765161003, 4.1413610858717345, 4.285295784034066, 4.994643819556108]\n",
      "\n"
     ]
    }
   ],
   "source": [
    "data = [];\n",
    "for i in range(6):\n",
    "    if(i<3):\n",
    "        data.append(sorted(np.random.normal(0,1,20)))\n",
    "    else:\n",
    "        data.append(sorted(np.random.uniform(-6,6,20)))\n",
    "for i in data:\n",
    "    print(str(i) + \"\\n\")"
   ]
  },
  {
   "cell_type": "markdown",
   "metadata": {},
   "source": [
    "2. Створіть функцію, що реалізує критерій Шапіро-Уілка та застосуйте її до кожної змінної набору данних. Детальний опис роботи критерію та приклад його розрахунку"
   ]
  },
  {
   "cell_type": "code",
   "execution_count": 243,
   "metadata": {},
   "outputs": [],
   "source": [
    "def ShapiroWilk(data):\n",
    "    n = len(data)\n",
    "    \n",
    "    a = pd.read_excel(\"Coeficients for the W test for normality.xlsx\")[n]/10000\n",
    "    w_table = pd.read_excel(\"Рoints of the distribution of W.xlsx\")[ 'Unnamed: 1'][n]/1000\n",
    "\n",
    "    k = int(n/2 if (n%2==0) else (n-1)/2)\n",
    "    m = np.mean(data)\n",
    "    nm = 0\n",
    "    \n",
    "    for i in data:\n",
    "        nm += (i-m)**2\n",
    "\n",
    "    b = 0\n",
    "    for i in range(k):\n",
    "        b += a[i]*(data[n-i-1] - data[i])\n",
    "    w = (b**2)/nm\n",
    "    \n",
    "    if(w > w_table):\n",
    "        return \"normal\"\n",
    "    else:\n",
    "        return \"non-normal\""
   ]
  },
  {
   "cell_type": "markdown",
   "metadata": {},
   "source": [
    "3. Сгенеруйте пусту таблицю, в якій кількість рядків - це кількість змінних + 1. Кількість стовбчиків - 3. Назва стовпчиків - Variable, Statistics, Distribution.<br>\n",
    "-Занести в стовпчик Variable назви змінних.<br>\n",
    "-Занести в стовпчик Distribution результати роботи криетрію Шапіро-Уілка. Для змінних, які розподілені за нормальним законом вносити \"normal\", в протилежному вигляді - \"non-normal\".<br>\n",
    "-Розрахувати для всіх змінних, що розподілені за нормальним законом розрахувати середне значення та стандартне відхилення.   Записати в таблицю. Форма запису: Середнє [стандартне відхилення].<br>\n",
    "-Розрахувати для всіх змінних, що розподілені за розподілом відсутнім від нормального розрахувати медіану та інтерквартильний розмах. Записати в таблицю. Форма запису: Медіана [25%; 75%].\n"
   ]
  },
  {
   "cell_type": "code",
   "execution_count": 244,
   "metadata": {},
   "outputs": [
    {
     "data": {
      "text/html": [
       "<div>\n",
       "<style scoped>\n",
       "    .dataframe tbody tr th:only-of-type {\n",
       "        vertical-align: middle;\n",
       "    }\n",
       "\n",
       "    .dataframe tbody tr th {\n",
       "        vertical-align: top;\n",
       "    }\n",
       "\n",
       "    .dataframe thead th {\n",
       "        text-align: right;\n",
       "    }\n",
       "</style>\n",
       "<table border=\"1\" class=\"dataframe\">\n",
       "  <thead>\n",
       "    <tr style=\"text-align: right;\">\n",
       "      <th></th>\n",
       "      <th>Variable</th>\n",
       "      <th>Statistics</th>\n",
       "      <th>Distribution</th>\n",
       "    </tr>\n",
       "  </thead>\n",
       "  <tbody>\n",
       "    <tr>\n",
       "      <th>0</th>\n",
       "      <td>Normal</td>\n",
       "      <td>-0.130[1.047]</td>\n",
       "      <td>normal</td>\n",
       "    </tr>\n",
       "    <tr>\n",
       "      <th>1</th>\n",
       "      <td>Normal</td>\n",
       "      <td>-0.349[0.904]</td>\n",
       "      <td>normal</td>\n",
       "    </tr>\n",
       "    <tr>\n",
       "      <th>2</th>\n",
       "      <td>Normal</td>\n",
       "      <td>0.268[0.845]</td>\n",
       "      <td>normal</td>\n",
       "    </tr>\n",
       "    <tr>\n",
       "      <th>3</th>\n",
       "      <td>Non Normal</td>\n",
       "      <td>-2.030[-3.044 , 3.998]</td>\n",
       "      <td>non-normal</td>\n",
       "    </tr>\n",
       "    <tr>\n",
       "      <th>4</th>\n",
       "      <td>Non Normal</td>\n",
       "      <td>-1.344[-3.633 , 2.858]</td>\n",
       "      <td>non-normal</td>\n",
       "    </tr>\n",
       "    <tr>\n",
       "      <th>5</th>\n",
       "      <td>Non Normal</td>\n",
       "      <td>-0.697[3.159]</td>\n",
       "      <td>normal</td>\n",
       "    </tr>\n",
       "  </tbody>\n",
       "</table>\n",
       "</div>"
      ],
      "text/plain": [
       "     Variable              Statistics Distribution\n",
       "0      Normal           -0.130[1.047]       normal\n",
       "1      Normal           -0.349[0.904]       normal\n",
       "2      Normal            0.268[0.845]       normal\n",
       "3  Non Normal  -2.030[-3.044 , 3.998]   non-normal\n",
       "4  Non Normal  -1.344[-3.633 , 2.858]   non-normal\n",
       "5  Non Normal           -0.697[3.159]       normal"
      ]
     },
     "execution_count": 244,
     "metadata": {},
     "output_type": "execute_result"
    }
   ],
   "source": [
    "table = pd.DataFrame(\n",
    "{\n",
    "    \"Variable\": [\"Normal\" if (i < 3) else \"Non Normal\" for i in range(6)],\n",
    "    \"Statistics\": [\"%.3f[%.3f]\" % (np.mean(data[i]), np.std(data[i])) if (ShapiroWilk(data[i]) == \"normal\")\n",
    "                  else \"%.3f[%.3f , %.3f]\" % (np.median(data[i]), np.quantile(data[i], 0.25), np.quantile(data[i], 0.75))\n",
    "                  for i in range(6)],\n",
    "    \"Distribution\": [ShapiroWilk(data[i]) for i in range(6)],\n",
    "})\n",
    "\n",
    "table"
   ]
  },
  {
   "cell_type": "markdown",
   "metadata": {},
   "source": [
    "4. Зберегти таблицю в пдф форматі"
   ]
  },
  {
   "cell_type": "code",
   "execution_count": 245,
   "metadata": {},
   "outputs": [
    {
     "data": {
      "image/png": "[encoded data removed]",
      "text/plain": [
       "<Figure size 432x288 with 1 Axes>"
      ]
     },
     "metadata": {
      "needs_background": "light"
     },
     "output_type": "display_data"
    }
   ],
   "source": [
    "fig = plt.figure()\n",
    "ax = fig.add_subplot(111)\n",
    "\n",
    "cell_text = []\n",
    "for row in range(len(table)):\n",
    "    cell_text.append(table.iloc[row])\n",
    "\n",
    "ax.table(cellText = cell_text, colLabels = table.columns, loc = 'center')\n",
    "ax.axis('off')\n",
    "\n",
    "pdf = matplotlib.backends.backend_pdf.PdfPages(\"table.pdf\")\n",
    "pdf.savefig(fig)\n",
    "pdf.close()"
   ]
  },
  {
   "cell_type": "code",
   "execution_count": null,
   "metadata": {},
   "outputs": [],
   "source": []
  }
 ],
 "metadata": {
  "kernelspec": {
   "display_name": "Python 3",
   "language": "python",
   "name": "python3"
  },
  "language_info": {
   "codemirror_mode": {
    "name": "ipython",
    "version": 3
   },
   "file_extension": ".py",
   "mimetype": "text/x-python",
   "name": "python",
   "nbconvert_exporter": "python",
   "pygments_lexer": "ipython3",
   "version": "3.8.2"
  }
 },
 "nbformat": 4,
 "nbformat_minor": 4
}
